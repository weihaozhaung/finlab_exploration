{
 "cells": [
  {
   "cell_type": "code",
   "execution_count": 26,
   "metadata": {},
   "outputs": [],
   "source": [
    "import pandas as pd\n",
    "import re"
   ]
  },
  {
   "cell_type": "code",
   "execution_count": 4,
   "metadata": {},
   "outputs": [],
   "source": [
    "with open('Finlab.txt',encoding=\"utf-8\") as f:\n",
    "    lines = f.readlines()"
   ]
  },
  {
   "cell_type": "code",
   "execution_count": 9,
   "metadata": {},
   "outputs": [
    {
     "data": {
      "text/plain": [
       "['回測基準\\thttps://ai.finlab.tw/database/#benchmark_return\\t\"資料名稱 使用方法 型態\\n',\n",
       " '發行量加權股價報酬指數 data.get(\\'benchmark_return:發行量加權股價報酬指數\\') float\"\\n',\n",
       " '上櫃減資\\thttps://ai.finlab.tw/database/#capital_reduction_otc\\t\"資料名稱 使用方法 型態\\n',\n",
       " \"恢復買賣日期 data.get('capital_reduction_otc:恢復買賣日期') str\\n\",\n",
       " \"減資原因 data.get('capital_reduction_otc:減資原因') str\\n\",\n",
       " \"開始交易基準價 data.get('capital_reduction_otc:開始交易基準價') float\\n\",\n",
       " \"最後交易之收盤價格 data.get('capital_reduction_otc:最後交易之收盤價格') float\\n\",\n",
       " \"減資恢復買賣開始日參考價格 data.get('capital_reduction_otc:減資恢復買賣開始日參考價格') float\\n\",\n",
       " \"漲停價格 data.get('capital_reduction_otc:漲停價格') float\\n\",\n",
       " \"跌停價格 data.get('capital_reduction_otc:跌停價格') float\\n\"]"
      ]
     },
     "execution_count": 9,
     "metadata": {},
     "output_type": "execute_result"
    }
   ],
   "source": [
    "lines[:10]"
   ]
  },
  {
   "cell_type": "code",
   "execution_count": 18,
   "metadata": {},
   "outputs": [],
   "source": [
    "output = {'data_name':[i.split(' ')[0] for i in lines], 'api':[i.split(' ')[1] for i in lines], 'd_type':[i.split(' ')[2].strip('\\n').strip('\"') for i in lines]}"
   ]
  },
  {
   "cell_type": "code",
   "execution_count": 20,
   "metadata": {},
   "outputs": [],
   "source": [
    "output = pd.DataFrame(output)"
   ]
  },
  {
   "cell_type": "code",
   "execution_count": 29,
   "metadata": {},
   "outputs": [
    {
     "data": {
      "text/html": [
       "<div>\n",
       "<style scoped>\n",
       "    .dataframe tbody tr th:only-of-type {\n",
       "        vertical-align: middle;\n",
       "    }\n",
       "\n",
       "    .dataframe tbody tr th {\n",
       "        vertical-align: top;\n",
       "    }\n",
       "\n",
       "    .dataframe thead th {\n",
       "        text-align: right;\n",
       "    }\n",
       "</style>\n",
       "<table border=\"1\" class=\"dataframe\">\n",
       "  <thead>\n",
       "    <tr style=\"text-align: right;\">\n",
       "      <th></th>\n",
       "      <th>data_name</th>\n",
       "      <th>api</th>\n",
       "      <th>d_type</th>\n",
       "    </tr>\n",
       "  </thead>\n",
       "  <tbody>\n",
       "    <tr>\n",
       "      <th>0</th>\n",
       "      <td>回測基準\\thttps://ai.finlab.tw/database/#benchmark...</td>\n",
       "      <td>使用方法</td>\n",
       "      <td>型態</td>\n",
       "    </tr>\n",
       "    <tr>\n",
       "      <th>1</th>\n",
       "      <td>發行量加權股價報酬指數</td>\n",
       "      <td>data.get('benchmark_return:發行量加權股價報酬指數')</td>\n",
       "      <td>float</td>\n",
       "    </tr>\n",
       "    <tr>\n",
       "      <th>2</th>\n",
       "      <td>上櫃減資\\thttps://ai.finlab.tw/database/#capital_r...</td>\n",
       "      <td>使用方法</td>\n",
       "      <td>型態</td>\n",
       "    </tr>\n",
       "    <tr>\n",
       "      <th>3</th>\n",
       "      <td>恢復買賣日期</td>\n",
       "      <td>data.get('capital_reduction_otc:恢復買賣日期')</td>\n",
       "      <td>str</td>\n",
       "    </tr>\n",
       "    <tr>\n",
       "      <th>4</th>\n",
       "      <td>減資原因</td>\n",
       "      <td>data.get('capital_reduction_otc:減資原因')</td>\n",
       "      <td>str</td>\n",
       "    </tr>\n",
       "  </tbody>\n",
       "</table>\n",
       "</div>"
      ],
      "text/plain": [
       "                                           data_name  \\\n",
       "0  回測基準\\thttps://ai.finlab.tw/database/#benchmark...   \n",
       "1                                        發行量加權股價報酬指數   \n",
       "2  上櫃減資\\thttps://ai.finlab.tw/database/#capital_r...   \n",
       "3                                             恢復買賣日期   \n",
       "4                                               減資原因   \n",
       "\n",
       "                                        api d_type  \n",
       "0                                      使用方法     型態  \n",
       "1  data.get('benchmark_return:發行量加權股價報酬指數')  float  \n",
       "2                                      使用方法     型態  \n",
       "3  data.get('capital_reduction_otc:恢復買賣日期')    str  \n",
       "4    data.get('capital_reduction_otc:減資原因')    str  "
      ]
     },
     "execution_count": 29,
     "metadata": {},
     "output_type": "execute_result"
    }
   ],
   "source": [
    "output.head(5)"
   ]
  },
  {
   "cell_type": "code",
   "execution_count": 25,
   "metadata": {},
   "outputs": [],
   "source": [
    "category = output[output['api']=='使用方法']"
   ]
  },
  {
   "cell_type": "code",
   "execution_count": 28,
   "metadata": {},
   "outputs": [
    {
     "data": {
      "text/html": [
       "<div>\n",
       "<style scoped>\n",
       "    .dataframe tbody tr th:only-of-type {\n",
       "        vertical-align: middle;\n",
       "    }\n",
       "\n",
       "    .dataframe tbody tr th {\n",
       "        vertical-align: top;\n",
       "    }\n",
       "\n",
       "    .dataframe thead th {\n",
       "        text-align: right;\n",
       "    }\n",
       "</style>\n",
       "<table border=\"1\" class=\"dataframe\">\n",
       "  <thead>\n",
       "    <tr style=\"text-align: right;\">\n",
       "      <th></th>\n",
       "      <th>data_name</th>\n",
       "      <th>api</th>\n",
       "      <th>d_type</th>\n",
       "    </tr>\n",
       "  </thead>\n",
       "  <tbody>\n",
       "    <tr>\n",
       "      <th>0</th>\n",
       "      <td>回測基準\\thttps://ai.finlab.tw/database/#benchmark...</td>\n",
       "      <td>使用方法</td>\n",
       "      <td>型態</td>\n",
       "    </tr>\n",
       "    <tr>\n",
       "      <th>2</th>\n",
       "      <td>上櫃減資\\thttps://ai.finlab.tw/database/#capital_r...</td>\n",
       "      <td>使用方法</td>\n",
       "      <td>型態</td>\n",
       "    </tr>\n",
       "    <tr>\n",
       "      <th>12</th>\n",
       "      <td>上市減資\\thttps://ai.finlab.tw/database/#capital_r...</td>\n",
       "      <td>使用方法</td>\n",
       "      <td>型態</td>\n",
       "    </tr>\n",
       "    <tr>\n",
       "      <th>22</th>\n",
       "      <td>企業基本資訊\\thttps://ai.finlab.tw/database/#company...</td>\n",
       "      <td>使用方法</td>\n",
       "      <td>型態</td>\n",
       "    </tr>\n",
       "    <tr>\n",
       "      <th>64</th>\n",
       "      <td>企業主要經營業務\\thttps://ai.finlab.tw/database/#compa...</td>\n",
       "      <td>使用方法</td>\n",
       "      <td>型態</td>\n",
       "    </tr>\n",
       "  </tbody>\n",
       "</table>\n",
       "</div>"
      ],
      "text/plain": [
       "                                            data_name   api d_type\n",
       "0   回測基準\\thttps://ai.finlab.tw/database/#benchmark...  使用方法     型態\n",
       "2   上櫃減資\\thttps://ai.finlab.tw/database/#capital_r...  使用方法     型態\n",
       "12  上市減資\\thttps://ai.finlab.tw/database/#capital_r...  使用方法     型態\n",
       "22  企業基本資訊\\thttps://ai.finlab.tw/database/#company...  使用方法     型態\n",
       "64  企業主要經營業務\\thttps://ai.finlab.tw/database/#compa...  使用方法     型態"
      ]
     },
     "execution_count": 28,
     "metadata": {},
     "output_type": "execute_result"
    }
   ],
   "source": [
    "category.head(5)"
   ]
  },
  {
   "cell_type": "code",
   "execution_count": 40,
   "metadata": {},
   "outputs": [],
   "source": [
    "def extract_category(input_str):\n",
    "    '''\n",
    "    Correct the wrong data names that are actually category names.\n",
    "    \n",
    "    Args: \n",
    "    input_str: wrong data_names\n",
    "    \n",
    "    Return:\n",
    "    A list of categories\n",
    "    '''\n",
    "    end = re.search('\\thttps', input_str).span()[0]\n",
    "    category = input_str[:end]\n",
    "    \n",
    "    return category"
   ]
  },
  {
   "cell_type": "code",
   "execution_count": 50,
   "metadata": {},
   "outputs": [],
   "source": [
    "category_obj = category['data_name'].apply(lambda x: extract_category(x))"
   ]
  },
  {
   "cell_type": "code",
   "execution_count": 57,
   "metadata": {},
   "outputs": [],
   "source": [
    "def make_output_dataframe(cat, df):\n",
    "    '''\n",
    "    Make extra one column category to output dataframe and remove redundant rows.\n",
    "    \n",
    "    Args: \n",
    "    cat: category object containing the index and the information about the category |0 回測基準 |2 上櫃減資|...\n",
    "    df: the dataframe which has been processed primarily.\n",
    "    \n",
    "    Return:\n",
    "    the final desired dataframe containing name, api, dtype, and category\n",
    "    '''\n",
    "    df['category'] = '' # Initialize a new column\n",
    "    for cat_index in cat.index:\n",
    "        df['category'][cat_index] = cat[cat_index]\n",
    "    for df_index in df.index:\n",
    "        if df['category'][df_index]=='':\n",
    "            df['category'][df_index] = df['category'][df_index-1]\n",
    "    \n",
    "    #Above process fill up the categories\n",
    "    \n",
    "    output_df = df.drop(cat.index, axis = 0).sort_index()\n",
    "    \n",
    "    return output_df"
   ]
  },
  {
   "cell_type": "code",
   "execution_count": 59,
   "metadata": {},
   "outputs": [],
   "source": [
    "output_df = make_output_dataframe(category_obj, output)"
   ]
  },
  {
   "cell_type": "code",
   "execution_count": 60,
   "metadata": {},
   "outputs": [],
   "source": [
    "output_df.to_csv('finlab_api.csv', encoding = 'utf-8-sig', format)"
   ]
  }
 ],
 "metadata": {
  "kernelspec": {
   "display_name": "Python 3",
   "language": "python",
   "name": "python3"
  },
  "language_info": {
   "codemirror_mode": {
    "name": "ipython",
    "version": 3
   },
   "file_extension": ".py",
   "mimetype": "text/x-python",
   "name": "python",
   "nbconvert_exporter": "python",
   "pygments_lexer": "ipython3",
   "version": "3.7.1"
  }
 },
 "nbformat": 4,
 "nbformat_minor": 2
}
